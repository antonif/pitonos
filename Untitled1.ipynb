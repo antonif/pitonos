{
 "metadata": {
  "name": "",
  "signature": "sha256:5f3629911f385da8ee727a489456f674aba5924f0e0fd767012e45b6a3d38114"
 },
 "nbformat": 3,
 "nbformat_minor": 0,
 "worksheets": [
  {
   "cells": [
    {
     "cell_type": "heading",
     "level": 1,
     "metadata": {},
     "source": [
      "Git alapok"
     ]
    },
    {
     "cell_type": "markdown",
     "metadata": {},
     "source": [
      "Git konfigur\u00e1l\u00e1sa:\n",
      "\n",
      "Haszn\u00e1latba veszem az \u00faj laptopomat, bejelentkezek. <br>\n",
      "Be\u00e1ll\u00edtom az alap git adatokat. <br>\n",
      "A felhaszn\u00e1l\u00f3i nevem: <br>\n",
      "git config --global user.name \"Antoni F\u00e9lix\""
     ]
    },
    {
     "cell_type": "code",
     "collapsed": false,
     "input": [
      "!git config --global user.name \"Antoni F\u00e9lix\""
     ],
     "language": "python",
     "metadata": {},
     "outputs": [],
     "prompt_number": 7
    },
    {
     "cell_type": "markdown",
     "metadata": {},
     "source": [
      "A felhaszn\u00e1l\u00f3 email c\u00edm\u00e9nek be\u00e1ll\u00edt\u00e1sa:\n",
      "git config --global user.email \"antoni.felix96@gmail.com\""
     ]
    },
    {
     "cell_type": "code",
     "collapsed": false,
     "input": [
      "!git config --global user.name \"antoni.felix96@gmail.com\""
     ],
     "language": "python",
     "metadata": {},
     "outputs": [],
     "prompt_number": 6
    },
    {
     "cell_type": "markdown",
     "metadata": {},
     "source": [
      "Ezek az adatok egy .gitconfig f\u00e1jlba ker\u00fclnek. \n",
      "cat .gitconfig"
     ]
    },
    {
     "cell_type": "code",
     "collapsed": false,
     "input": [
      "!cat .gitconfig"
     ],
     "language": "python",
     "metadata": {},
     "outputs": [
      {
       "output_type": "stream",
       "stream": "stdout",
       "text": [
        "[user]\r\n",
        "\tname = Antoni F\u00e9lix\r\n",
        "\temail = antoni.felix96@gmail.com\r\n"
       ]
      }
     ],
     "prompt_number": 9
    },
    {
     "cell_type": "markdown",
     "metadata": {},
     "source": [
      "# Kezdj\u00fck el a projekt\u00fcnket"
     ]
    },
    {
     "cell_type": "markdown",
     "metadata": {},
     "source": [
      "Hozzuk l\u00e9tre a projekt k\u00f6nyvt\u00e1rat munka n\u00e9ven:<br>\n",
      "mkdir munka"
     ]
    },
    {
     "cell_type": "code",
     "collapsed": false,
     "input": [
      "!mkdir munka"
     ],
     "language": "python",
     "metadata": {},
     "outputs": [],
     "prompt_number": 11
    },
    {
     "cell_type": "markdown",
     "metadata": {},
     "source": [
      "L\u00e9trehozunk egy git t\u00e1rol\u00f3t (repository) a munka k\u00f6nyvt\u00e1r\u00e1ban:<br>\n",
      "cd munka; git init"
     ]
    },
    {
     "cell_type": "code",
     "collapsed": false,
     "input": [
      "!cd munka; git init"
     ],
     "language": "python",
     "metadata": {},
     "outputs": [
      {
       "output_type": "stream",
       "stream": "stdout",
       "text": [
        "Initialized empty Git repository in /home/antonif/munka/.git/\r\n"
       ]
      }
     ],
     "prompt_number": 12
    },
    {
     "cell_type": "code",
     "collapsed": false,
     "input": [
      "!git clone "
     ],
     "language": "python",
     "metadata": {},
     "outputs": [
      {
       "output_type": "stream",
       "stream": "stdout",
       "text": [
        "fatal: destination path 'munka' already exists and is not an empty directory.\r\n"
       ]
      }
     ],
     "prompt_number": 21
    }
   ],
   "metadata": {}
  }
 ]
}